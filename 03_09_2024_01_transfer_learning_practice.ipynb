{
  "nbformat": 4,
  "nbformat_minor": 0,
  "metadata": {
    "colab": {
      "provenance": [],
      "authorship_tag": "ABX9TyMX5tjpGQArZ2Y01vnsqVzU",
      "include_colab_link": true
    },
    "kernelspec": {
      "name": "python3",
      "display_name": "Python 3"
    },
    "language_info": {
      "name": "python"
    }
  },
  "cells": [
    {
      "cell_type": "markdown",
      "metadata": {
        "id": "view-in-github",
        "colab_type": "text"
      },
      "source": [
        "<a href=\"https://colab.research.google.com/github/IvaYar/EkzoWood/blob/main/03_09_2024_01_transfer_learning_practice.ipynb\" target=\"_parent\"><img src=\"https://colab.research.google.com/assets/colab-badge.svg\" alt=\"Open In Colab\"/></a>"
      ]
    },
    {
      "cell_type": "code",
      "execution_count": null,
      "metadata": {
        "colab": {
          "base_uri": "https://localhost:8080/"
        },
        "id": "13kS80IhjS0j",
        "outputId": "e0fe4dd2-4577-49e8-af8e-105ce831fb74"
      },
      "outputs": [
        {
          "output_type": "stream",
          "name": "stdout",
          "text": [
            "2.17.0\n"
          ]
        }
      ],
      "source": [
        "import tensorflow as tf\n",
        "print(tf.__version__)"
      ]
    },
    {
      "cell_type": "code",
      "source": [
        "scalar = tf.constant(6)\n",
        "scalar"
      ],
      "metadata": {
        "colab": {
          "base_uri": "https://localhost:8080/"
        },
        "id": "PwWtEZbipLtT",
        "outputId": "6152f208-5c4e-4e6e-d7a7-8a4a00eb4eac"
      },
      "execution_count": null,
      "outputs": [
        {
          "output_type": "execute_result",
          "data": {
            "text/plain": [
              "<tf.Tensor: shape=(), dtype=int32, numpy=6>"
            ]
          },
          "metadata": {},
          "execution_count": 3
        }
      ]
    },
    {
      "cell_type": "code",
      "source": [
        "scalar.ndim"
      ],
      "metadata": {
        "colab": {
          "base_uri": "https://localhost:8080/"
        },
        "id": "xTB_C0LfpunP",
        "outputId": "95ed9058-2007-448e-bb47-46aaebefe6cc"
      },
      "execution_count": null,
      "outputs": [
        {
          "output_type": "execute_result",
          "data": {
            "text/plain": [
              "0"
            ]
          },
          "metadata": {},
          "execution_count": 4
        }
      ]
    },
    {
      "cell_type": "code",
      "source": [
        "vector = tf.constant([10, 10])\n",
        "vector"
      ],
      "metadata": {
        "colab": {
          "base_uri": "https://localhost:8080/"
        },
        "id": "wJBNuZdGp2GI",
        "outputId": "e8f7b4e0-d840-4ce5-87eb-e70ac57da194"
      },
      "execution_count": null,
      "outputs": [
        {
          "output_type": "execute_result",
          "data": {
            "text/plain": [
              "<tf.Tensor: shape=(2,), dtype=int32, numpy=array([10, 10], dtype=int32)>"
            ]
          },
          "metadata": {},
          "execution_count": 5
        }
      ]
    },
    {
      "cell_type": "code",
      "source": [
        "vector.ndim"
      ],
      "metadata": {
        "colab": {
          "base_uri": "https://localhost:8080/"
        },
        "id": "m_j2yCt1qGkS",
        "outputId": "60f5035a-11f2-4ff4-ad3d-b1c5d72e3d25"
      },
      "execution_count": null,
      "outputs": [
        {
          "output_type": "execute_result",
          "data": {
            "text/plain": [
              "1"
            ]
          },
          "metadata": {},
          "execution_count": 6
        }
      ]
    },
    {
      "cell_type": "code",
      "source": [
        "matrix = tf.constant([[10, 5],\n",
        "                      [1, 9]])\n",
        "matrix"
      ],
      "metadata": {
        "colab": {
          "base_uri": "https://localhost:8080/"
        },
        "id": "eBjoH_9tqPzF",
        "outputId": "6d246244-0e56-4a40-8612-0f7363dce001"
      },
      "execution_count": null,
      "outputs": [
        {
          "output_type": "execute_result",
          "data": {
            "text/plain": [
              "<tf.Tensor: shape=(2, 2), dtype=int32, numpy=\n",
              "array([[10,  5],\n",
              "       [ 1,  9]], dtype=int32)>"
            ]
          },
          "metadata": {},
          "execution_count": 8
        }
      ]
    },
    {
      "cell_type": "code",
      "source": [
        "matrix.ndim"
      ],
      "metadata": {
        "colab": {
          "base_uri": "https://localhost:8080/"
        },
        "id": "00m7OQVUq5Rh",
        "outputId": "40ca060d-cdc2-43cb-8c91-fc311e8053a0"
      },
      "execution_count": null,
      "outputs": [
        {
          "output_type": "execute_result",
          "data": {
            "text/plain": [
              "2"
            ]
          },
          "metadata": {},
          "execution_count": 9
        }
      ]
    },
    {
      "cell_type": "code",
      "source": [
        "another_matrix = tf.constant([[10., 7.],\n",
        "                              [3., 2.],\n",
        "                              [8., 9.]], dtype=tf.float16)\n",
        "\n",
        "another_matrix"
      ],
      "metadata": {
        "colab": {
          "base_uri": "https://localhost:8080/"
        },
        "id": "1gVDWNzyq8k7",
        "outputId": "b1bf43e2-d265-4c47-9f83-3ed64434b69a"
      },
      "execution_count": null,
      "outputs": [
        {
          "output_type": "execute_result",
          "data": {
            "text/plain": [
              "<tf.Tensor: shape=(3, 2), dtype=float16, numpy=\n",
              "array([[10.,  7.],\n",
              "       [ 3.,  2.],\n",
              "       [ 8.,  9.]], dtype=float16)>"
            ]
          },
          "metadata": {},
          "execution_count": 11
        }
      ]
    },
    {
      "cell_type": "code",
      "source": [
        "another_matrix.ndim"
      ],
      "metadata": {
        "colab": {
          "base_uri": "https://localhost:8080/"
        },
        "id": "kfPef35UrSTp",
        "outputId": "bffb71d4-9d6c-484c-a85d-d28374c7be36"
      },
      "execution_count": null,
      "outputs": [
        {
          "output_type": "execute_result",
          "data": {
            "text/plain": [
              "2"
            ]
          },
          "metadata": {},
          "execution_count": 12
        }
      ]
    },
    {
      "cell_type": "code",
      "source": [
        "tensor = tf.constant([[[1, 2, 3],\n",
        "                       [4, 5, 6]],\n",
        "                      [[7, 8, 9],\n",
        "                       [10, 11, 12]],\n",
        "                      [[13, 14, 15],\n",
        "                       [16, 17, 18]]])\n",
        "tensor"
      ],
      "metadata": {
        "colab": {
          "base_uri": "https://localhost:8080/"
        },
        "id": "21Zne0xorU9e",
        "outputId": "4a72328e-1938-4b30-e277-5b9ed6d76ef8"
      },
      "execution_count": null,
      "outputs": [
        {
          "output_type": "execute_result",
          "data": {
            "text/plain": [
              "<tf.Tensor: shape=(3, 2, 3), dtype=int32, numpy=\n",
              "array([[[ 1,  2,  3],\n",
              "        [ 4,  5,  6]],\n",
              "\n",
              "       [[ 7,  8,  9],\n",
              "        [10, 11, 12]],\n",
              "\n",
              "       [[13, 14, 15],\n",
              "        [16, 17, 18]]], dtype=int32)>"
            ]
          },
          "metadata": {},
          "execution_count": 13
        }
      ]
    },
    {
      "cell_type": "code",
      "source": [
        "tensor.ndim"
      ],
      "metadata": {
        "colab": {
          "base_uri": "https://localhost:8080/"
        },
        "id": "q_jpnwbZrcI7",
        "outputId": "0d9f534d-e02e-4913-d7f9-a0e8d9f4877d"
      },
      "execution_count": null,
      "outputs": [
        {
          "output_type": "execute_result",
          "data": {
            "text/plain": [
              "3"
            ]
          },
          "metadata": {},
          "execution_count": 14
        }
      ]
    },
    {
      "cell_type": "code",
      "source": [
        "changeable_tensor = tf.Variable([10, 7])\n",
        "unchangeable_tensor = tf.constant([10, 7])\n",
        "changeable_tensor, unchangeable_tensor"
      ],
      "metadata": {
        "colab": {
          "base_uri": "https://localhost:8080/"
        },
        "id": "uf0Hm_nysccF",
        "outputId": "ae62cd65-d57b-488e-f761-fbd938f0b7c1"
      },
      "execution_count": null,
      "outputs": [
        {
          "output_type": "execute_result",
          "data": {
            "text/plain": [
              "(<tf.Variable 'Variable:0' shape=(2,) dtype=int32, numpy=array([10,  7], dtype=int32)>,\n",
              " <tf.Tensor: shape=(2,), dtype=int32, numpy=array([10,  7], dtype=int32)>)"
            ]
          },
          "metadata": {},
          "execution_count": 15
        }
      ]
    },
    {
      "cell_type": "code",
      "source": [
        "#You can't do that\n",
        "#changeable_tensor[0] = 7\n",
        "#changeable_tensor"
      ],
      "metadata": {
        "id": "iEznE2s9uCEa"
      },
      "execution_count": null,
      "outputs": []
    },
    {
      "cell_type": "code",
      "source": [
        "changeable_tensor[0].assign(7)\n",
        "changeable_tensor"
      ],
      "metadata": {
        "colab": {
          "base_uri": "https://localhost:8080/"
        },
        "id": "5Pmy1pj7uW8T",
        "outputId": "059c08dc-a63a-4687-ec50-6d829551d21b"
      },
      "execution_count": null,
      "outputs": [
        {
          "output_type": "execute_result",
          "data": {
            "text/plain": [
              "<tf.Variable 'Variable:0' shape=(2,) dtype=int32, numpy=array([7, 7], dtype=int32)>"
            ]
          },
          "metadata": {},
          "execution_count": 17
        }
      ]
    },
    {
      "cell_type": "code",
      "source": [
        "# You can't do that\n",
        "#unchangeable_tensor[0].assign(7)\n",
        "#unchangleable_tensor"
      ],
      "metadata": {
        "id": "2wVo9I8huoqp"
      },
      "execution_count": null,
      "outputs": []
    },
    {
      "cell_type": "code",
      "source": [
        "random_3 = tf.random.Generator.from_seed(42)\n",
        "random_3 = random_3.normal(shape=(3, 2))\n",
        "random_4 = tf.random.Generator.from_seed(42)\n",
        "random_4 = random_4.normal(shape=(3, 2))\n",
        "\n",
        "random_4, random_3, random_4 == random_4"
      ],
      "metadata": {
        "colab": {
          "base_uri": "https://localhost:8080/"
        },
        "id": "Cmq8SKEEv-4r",
        "outputId": "7f8a5539-7718-43e9-a4f3-8908a4da1fef"
      },
      "execution_count": null,
      "outputs": [
        {
          "output_type": "execute_result",
          "data": {
            "text/plain": [
              "(<tf.Tensor: shape=(3, 2), dtype=float32, numpy=\n",
              " array([[-0.7565803 , -0.06854702],\n",
              "        [ 0.07595026, -1.2573844 ],\n",
              "        [-0.23193763, -1.8107855 ]], dtype=float32)>,\n",
              " <tf.Tensor: shape=(3, 2), dtype=float32, numpy=\n",
              " array([[-0.7565803 , -0.06854702],\n",
              "        [ 0.07595026, -1.2573844 ],\n",
              "        [-0.23193763, -1.8107855 ]], dtype=float32)>,\n",
              " <tf.Tensor: shape=(3, 2), dtype=bool, numpy=\n",
              " array([[ True,  True],\n",
              "        [ True,  True],\n",
              "        [ True,  True]])>)"
            ]
          },
          "metadata": {},
          "execution_count": 27
        }
      ]
    },
    {
      "cell_type": "code",
      "source": [],
      "metadata": {
        "id": "X3_3A0JexPc4"
      },
      "execution_count": null,
      "outputs": []
    },
    {
      "cell_type": "code",
      "source": [
        "random_3 = tf.random.Generator.from_seed(42)\n",
        "random_3 = random_3.normal(shape=(3, 2))\n",
        "random_4 = tf.random.Generator.from_seed(11)\n",
        "random_4 = random_4.normal(shape=(3, 2))\n",
        "\n",
        "random_3, random_4, random_1 == random_3, random_3 == random_4"
      ],
      "metadata": {
        "colab": {
          "base_uri": "https://localhost:8080/"
        },
        "id": "0wRNtvQnzNAa",
        "outputId": "90a6c5d4-4384-40d6-c8b5-efec363a0c79"
      },
      "execution_count": null,
      "outputs": [
        {
          "output_type": "execute_result",
          "data": {
            "text/plain": [
              "(<tf.Tensor: shape=(3, 2), dtype=float32, numpy=\n",
              " array([[-0.7565803 , -0.06854702],\n",
              "        [ 0.07595026, -1.2573844 ],\n",
              "        [-0.23193763, -1.8107855 ]], dtype=float32)>,\n",
              " <tf.Tensor: shape=(3, 2), dtype=float32, numpy=\n",
              " array([[ 0.27305737, -0.29925638],\n",
              "        [-0.3652325 ,  0.61883307],\n",
              "        [-1.0130816 ,  0.28291714]], dtype=float32)>,\n",
              " <tf.Tensor: shape=(3, 2), dtype=bool, numpy=\n",
              " array([[ True,  True],\n",
              "        [ True,  True],\n",
              "        [ True,  True]])>,\n",
              " <tf.Tensor: shape=(3, 2), dtype=bool, numpy=\n",
              " array([[False, False],\n",
              "        [False, False],\n",
              "        [False, False]])>)"
            ]
          },
          "metadata": {},
          "execution_count": 26
        }
      ]
    },
    {
      "cell_type": "code",
      "source": [
        "not_shuffled = tf.constant([[10, 7],\n",
        "                            [3, 4],\n",
        "                            [2, 5]])\n",
        "\n",
        "tf.random.shuffle(not_shuffled)"
      ],
      "metadata": {
        "colab": {
          "base_uri": "https://localhost:8080/"
        },
        "id": "IVM3Mu9P4U0K",
        "outputId": "d2531f41-a81c-441a-a26c-95e13fd783e2"
      },
      "execution_count": null,
      "outputs": [
        {
          "output_type": "execute_result",
          "data": {
            "text/plain": [
              "<tf.Tensor: shape=(3, 2), dtype=int32, numpy=\n",
              "array([[ 2,  5],\n",
              "       [ 3,  4],\n",
              "       [10,  7]], dtype=int32)>"
            ]
          },
          "metadata": {},
          "execution_count": 28
        }
      ]
    },
    {
      "cell_type": "code",
      "source": [
        "tf.random.shuffle(not_shuffled, seed=42)"
      ],
      "metadata": {
        "colab": {
          "base_uri": "https://localhost:8080/"
        },
        "id": "iWknPkei5sF2",
        "outputId": "aab4f985-0448-4d2c-c360-d5c49cc3deb8"
      },
      "execution_count": null,
      "outputs": [
        {
          "output_type": "execute_result",
          "data": {
            "text/plain": [
              "<tf.Tensor: shape=(3, 2), dtype=int32, numpy=\n",
              "array([[ 2,  5],\n",
              "       [ 3,  4],\n",
              "       [10,  7]], dtype=int32)>"
            ]
          },
          "metadata": {},
          "execution_count": 30
        }
      ]
    },
    {
      "cell_type": "code",
      "source": [
        "tf.random.set_seed(42)\n",
        "\n",
        "tf.random.shuffle(not_shuffled, seed=42)"
      ],
      "metadata": {
        "colab": {
          "base_uri": "https://localhost:8080/"
        },
        "id": "TYcpqA585vSO",
        "outputId": "ed5a5aff-5fe5-4f28-fd47-d2b81dbcb186"
      },
      "execution_count": null,
      "outputs": [
        {
          "output_type": "execute_result",
          "data": {
            "text/plain": [
              "<tf.Tensor: shape=(3, 2), dtype=int32, numpy=\n",
              "array([[10,  7],\n",
              "       [ 3,  4],\n",
              "       [ 2,  5]], dtype=int32)>"
            ]
          },
          "metadata": {},
          "execution_count": 31
        }
      ]
    },
    {
      "cell_type": "code",
      "source": [
        "tf.random.set_seed(42)\n",
        "\n",
        "tf.random.shuffle(not_shuffled)"
      ],
      "metadata": {
        "colab": {
          "base_uri": "https://localhost:8080/"
        },
        "id": "cD0DkqpU6fFH",
        "outputId": "46bae543-0669-4acc-8396-fb7d568faee3"
      },
      "execution_count": null,
      "outputs": [
        {
          "output_type": "execute_result",
          "data": {
            "text/plain": [
              "<tf.Tensor: shape=(3, 2), dtype=int32, numpy=\n",
              "array([[ 3,  4],\n",
              "       [ 2,  5],\n",
              "       [10,  7]], dtype=int32)>"
            ]
          },
          "metadata": {},
          "execution_count": 32
        }
      ]
    },
    {
      "cell_type": "code",
      "source": [
        "tf.ones(shape=(3, 2))"
      ],
      "metadata": {
        "colab": {
          "base_uri": "https://localhost:8080/"
        },
        "id": "prp6Wcb_6jeN",
        "outputId": "abf29cc1-04a5-4c29-ed53-d7789c7967d9"
      },
      "execution_count": null,
      "outputs": [
        {
          "output_type": "execute_result",
          "data": {
            "text/plain": [
              "<tf.Tensor: shape=(3, 2), dtype=float32, numpy=\n",
              "array([[1., 1.],\n",
              "       [1., 1.],\n",
              "       [1., 1.]], dtype=float32)>"
            ]
          },
          "metadata": {},
          "execution_count": 33
        }
      ]
    },
    {
      "cell_type": "code",
      "source": [
        "tf.zeros(shape=(3, 2))"
      ],
      "metadata": {
        "colab": {
          "base_uri": "https://localhost:8080/"
        },
        "id": "Dmgk3JiE6rMN",
        "outputId": "cdafdce5-d93f-441f-fa20-1314f0f582e4"
      },
      "execution_count": null,
      "outputs": [
        {
          "output_type": "execute_result",
          "data": {
            "text/plain": [
              "<tf.Tensor: shape=(3, 2), dtype=float32, numpy=\n",
              "array([[0., 0.],\n",
              "       [0., 0.],\n",
              "       [0., 0.]], dtype=float32)>"
            ]
          },
          "metadata": {},
          "execution_count": 34
        }
      ]
    },
    {
      "cell_type": "code",
      "source": [
        "import numpy as np\n",
        "numpy_A = np.arange(1, 25, dtype=np.int32) # create a NumPy array between 1 and 25\n",
        "A = tf.constant(numpy_A,\n",
        "                shape=[2, 4, 3]) # note: the shape total (2*4*3) has to match the number of elements in the array\n",
        "numpy_A, A"
      ],
      "metadata": {
        "colab": {
          "base_uri": "https://localhost:8080/"
        },
        "id": "7U7LGcw36tg1",
        "outputId": "4a4d0c54-ddef-428a-f312-026c7b5ccdb0"
      },
      "execution_count": null,
      "outputs": [
        {
          "output_type": "execute_result",
          "data": {
            "text/plain": [
              "(array([ 1,  2,  3,  4,  5,  6,  7,  8,  9, 10, 11, 12, 13, 14, 15, 16, 17,\n",
              "        18, 19, 20, 21, 22, 23, 24], dtype=int32),\n",
              " <tf.Tensor: shape=(2, 4, 3), dtype=int32, numpy=\n",
              " array([[[ 1,  2,  3],\n",
              "         [ 4,  5,  6],\n",
              "         [ 7,  8,  9],\n",
              "         [10, 11, 12]],\n",
              " \n",
              "        [[13, 14, 15],\n",
              "         [16, 17, 18],\n",
              "         [19, 20, 21],\n",
              "         [22, 23, 24]]], dtype=int32)>)"
            ]
          },
          "metadata": {},
          "execution_count": 35
        }
      ]
    },
    {
      "cell_type": "code",
      "source": [
        "rank_4_tensor = tf.zeros([2, 3, 4, 5])\n",
        "rank_4_tensor"
      ],
      "metadata": {
        "id": "vxTwuNOq6yCd",
        "outputId": "cc9070fb-6d7e-4a7b-f6a2-2996ab29d662",
        "colab": {
          "base_uri": "https://localhost:8080/"
        }
      },
      "execution_count": null,
      "outputs": [
        {
          "output_type": "execute_result",
          "data": {
            "text/plain": [
              "<tf.Tensor: shape=(2, 3, 4, 5), dtype=float32, numpy=\n",
              "array([[[[0., 0., 0., 0., 0.],\n",
              "         [0., 0., 0., 0., 0.],\n",
              "         [0., 0., 0., 0., 0.],\n",
              "         [0., 0., 0., 0., 0.]],\n",
              "\n",
              "        [[0., 0., 0., 0., 0.],\n",
              "         [0., 0., 0., 0., 0.],\n",
              "         [0., 0., 0., 0., 0.],\n",
              "         [0., 0., 0., 0., 0.]],\n",
              "\n",
              "        [[0., 0., 0., 0., 0.],\n",
              "         [0., 0., 0., 0., 0.],\n",
              "         [0., 0., 0., 0., 0.],\n",
              "         [0., 0., 0., 0., 0.]]],\n",
              "\n",
              "\n",
              "       [[[0., 0., 0., 0., 0.],\n",
              "         [0., 0., 0., 0., 0.],\n",
              "         [0., 0., 0., 0., 0.],\n",
              "         [0., 0., 0., 0., 0.]],\n",
              "\n",
              "        [[0., 0., 0., 0., 0.],\n",
              "         [0., 0., 0., 0., 0.],\n",
              "         [0., 0., 0., 0., 0.],\n",
              "         [0., 0., 0., 0., 0.]],\n",
              "\n",
              "        [[0., 0., 0., 0., 0.],\n",
              "         [0., 0., 0., 0., 0.],\n",
              "         [0., 0., 0., 0., 0.],\n",
              "         [0., 0., 0., 0., 0.]]]], dtype=float32)>"
            ]
          },
          "metadata": {},
          "execution_count": 36
        }
      ]
    },
    {
      "cell_type": "markdown",
      "source": [
        "HomeWork"
      ],
      "metadata": {
        "id": "MutKMbthtWiU"
      }
    },
    {
      "cell_type": "markdown",
      "source": [
        "Create a vector, scalar, matrix and tensor with values of your choosing using tf.constant()."
      ],
      "metadata": {
        "id": "bNMk0q0btY9y"
      }
    },
    {
      "cell_type": "code",
      "source": [
        "v = tf.constant([1,2])\n",
        "s = tf.constant(1)\n",
        "m = tf.constant([[1,2],\n",
        "                        [1,2]])\n",
        "t = tf.constant([[[1,2,3],\n",
        "                         [4,5,6],\n",
        "                         [7,8,9]],\n",
        "                        [[1,2,3],\n",
        "                         [4,5,6],\n",
        "                         [7,8,9]],\n",
        "                        [[1,2,3],\n",
        "                         [4,5,6],\n",
        "                         [7,8,9]]])"
      ],
      "metadata": {
        "id": "iDspVotztZu-"
      },
      "execution_count": null,
      "outputs": []
    },
    {
      "cell_type": "code",
      "source": [
        "v,s,m,t"
      ],
      "metadata": {
        "id": "4K6YLW9Kxlh0",
        "colab": {
          "base_uri": "https://localhost:8080/"
        },
        "outputId": "094ca8f7-314f-4d3f-b565-2ac1d8535acf"
      },
      "execution_count": null,
      "outputs": [
        {
          "output_type": "execute_result",
          "data": {
            "text/plain": [
              "(<tf.Tensor: shape=(2,), dtype=int32, numpy=array([1, 2], dtype=int32)>,\n",
              " <tf.Tensor: shape=(), dtype=int32, numpy=1>,\n",
              " <tf.Tensor: shape=(2, 2), dtype=int32, numpy=\n",
              " array([[1, 2],\n",
              "        [1, 2]], dtype=int32)>,\n",
              " <tf.Tensor: shape=(3, 3, 3), dtype=int32, numpy=\n",
              " array([[[1, 2, 3],\n",
              "         [4, 5, 6],\n",
              "         [7, 8, 9]],\n",
              " \n",
              "        [[1, 2, 3],\n",
              "         [4, 5, 6],\n",
              "         [7, 8, 9]],\n",
              " \n",
              "        [[1, 2, 3],\n",
              "         [4, 5, 6],\n",
              "         [7, 8, 9]]], dtype=int32)>)"
            ]
          },
          "metadata": {},
          "execution_count": 5
        }
      ]
    },
    {
      "cell_type": "markdown",
      "source": [
        "Find the shape, rank and size of the tensors you created in 1."
      ],
      "metadata": {
        "id": "LJ_LcWnytb6g"
      }
    },
    {
      "cell_type": "code",
      "source": [
        "def shapeRankSize(name,i):\n",
        "  print(\"For {}:\".format(name))\n",
        "  print(\"    Shape is {}\".format(i.shape))\n",
        "  print(\"    Rank is {}\".format(tf.rank(i)))\n",
        "  print(\"    Size is {}\\n\".format(tf.size(i).numpy()))"
      ],
      "metadata": {
        "id": "e0FQemr5tcWv"
      },
      "execution_count": null,
      "outputs": []
    },
    {
      "cell_type": "code",
      "source": [
        "shapeRankSize(\"vector\",v)\n",
        "shapeRankSize(\"scalar\",s)\n",
        "shapeRankSize(\"matrix\",m)\n",
        "shapeRankSize(\"tensor\",t)"
      ],
      "metadata": {
        "colab": {
          "base_uri": "https://localhost:8080/"
        },
        "id": "GJeAQwSJyjKc",
        "outputId": "1744eb86-4448-4590-d72e-f441c9ce9952"
      },
      "execution_count": null,
      "outputs": [
        {
          "output_type": "stream",
          "name": "stdout",
          "text": [
            "For vector:\n",
            "    Shape is (2,)\n",
            "    Rank is 1\n",
            "    Size is 2\n",
            "\n",
            "For scalar:\n",
            "    Shape is ()\n",
            "    Rank is 0\n",
            "    Size is 1\n",
            "\n",
            "For matrix:\n",
            "    Shape is (2, 2)\n",
            "    Rank is 2\n",
            "    Size is 4\n",
            "\n",
            "For tensor:\n",
            "    Shape is (3, 3, 3)\n",
            "    Rank is 3\n",
            "    Size is 27\n",
            "\n"
          ]
        }
      ]
    },
    {
      "cell_type": "markdown",
      "source": [
        "Create two tensors containing random values between 0 and 1 with shape [5, 300]."
      ],
      "metadata": {
        "id": "m_7nO0oqtc6Y"
      }
    },
    {
      "cell_type": "code",
      "source": [
        "random_1 = tf.random.uniform(minval=0,maxval=1,shape=(5,300))\n",
        "random_2 = tf.random.uniform(minval=0,maxval=1,shape=(5,300))"
      ],
      "metadata": {
        "id": "jgGcmqhetdSP"
      },
      "execution_count": null,
      "outputs": []
    },
    {
      "cell_type": "code",
      "source": [
        "random_1,random_2"
      ],
      "metadata": {
        "colab": {
          "base_uri": "https://localhost:8080/"
        },
        "id": "w4pCkM3Yy0qE",
        "outputId": "ec099d50-8d52-4790-917d-60dd3672809f"
      },
      "execution_count": null,
      "outputs": [
        {
          "output_type": "execute_result",
          "data": {
            "text/plain": [
              "(<tf.Tensor: shape=(5, 300), dtype=float32, numpy=\n",
              " array([[0.140059  , 0.7625865 , 0.9331671 , ..., 0.5123167 , 0.6881361 ,\n",
              "         0.3382938 ],\n",
              "        [0.29091585, 0.8111967 , 0.8336052 , ..., 0.0310868 , 0.25958502,\n",
              "         0.31451488],\n",
              "        [0.45210385, 0.10351062, 0.9698291 , ..., 0.8383945 , 0.784729  ,\n",
              "         0.06423211],\n",
              "        [0.4395399 , 0.06976593, 0.6771873 , ..., 0.5769315 , 0.29718387,\n",
              "         0.5162878 ],\n",
              "        [0.92730105, 0.9681965 , 0.26524258, ..., 0.0795511 , 0.688795  ,\n",
              "         0.37864125]], dtype=float32)>,\n",
              " <tf.Tensor: shape=(5, 300), dtype=float32, numpy=\n",
              " array([[0.8936908 , 0.88520634, 0.9722564 , ..., 0.27908385, 0.89075327,\n",
              "         0.01845598],\n",
              "        [0.62826145, 0.133564  , 0.6773287 , ..., 0.72809696, 0.49329948,\n",
              "         0.18942618],\n",
              "        [0.08103812, 0.03707457, 0.8994708 , ..., 0.18256724, 0.09080136,\n",
              "         0.00902736],\n",
              "        [0.85063124, 0.7135165 , 0.5785947 , ..., 0.35243332, 0.5895219 ,\n",
              "         0.6850085 ],\n",
              "        [0.07663131, 0.58957815, 0.5962225 , ..., 0.5380688 , 0.13790357,\n",
              "         0.00338244]], dtype=float32)>)"
            ]
          },
          "metadata": {},
          "execution_count": 10
        }
      ]
    },
    {
      "cell_type": "markdown",
      "source": [
        "Multiply the two tensors you created in 3 using matrix multiplication."
      ],
      "metadata": {
        "id": "4vDy3lUDtduC"
      }
    },
    {
      "cell_type": "code",
      "source": [
        "tf.matmul(random_1,tf.transpose(random_2))"
      ],
      "metadata": {
        "id": "qUHQ_aS6teGj"
      },
      "execution_count": null,
      "outputs": []
    },
    {
      "cell_type": "markdown",
      "source": [
        "Multiply the two tensors you created in 3 using dot product."
      ],
      "metadata": {
        "id": "DCli0eWbtehg"
      }
    },
    {
      "cell_type": "code",
      "source": [
        "tf.tensordot(random_1,tf.transpose(random_2),axes=1)"
      ],
      "metadata": {
        "id": "33J2cFAUte2o",
        "colab": {
          "base_uri": "https://localhost:8080/"
        },
        "outputId": "938e0ffa-5bb9-45ab-df81-a386b08ab4ca"
      },
      "execution_count": null,
      "outputs": [
        {
          "output_type": "execute_result",
          "data": {
            "text/plain": [
              "<tf.Tensor: shape=(5, 5), dtype=float32, numpy=\n",
              "array([[70.614975, 78.2559  , 67.491196, 76.04034 , 67.69641 ],\n",
              "       [69.131905, 76.407715, 70.97185 , 75.886185, 69.64664 ],\n",
              "       [68.21159 , 73.8857  , 71.029274, 73.348114, 67.59726 ],\n",
              "       [71.29883 , 81.60474 , 74.61708 , 78.839066, 72.34537 ],\n",
              "       [67.28436 , 74.408615, 65.73064 , 71.4599  , 69.26482 ]],\n",
              "      dtype=float32)>"
            ]
          },
          "metadata": {},
          "execution_count": 11
        }
      ]
    },
    {
      "cell_type": "markdown",
      "source": [
        "Create a tensor with random values between 0 and 1 with shape [224, 224, 3]."
      ],
      "metadata": {
        "id": "q5BTMPvntfOg"
      }
    },
    {
      "cell_type": "code",
      "source": [
        "random_3 = tf.random.uniform([224, 224, 3],0,1)\n",
        "random_3"
      ],
      "metadata": {
        "id": "xRxh4bQptfj1",
        "colab": {
          "base_uri": "https://localhost:8080/"
        },
        "outputId": "010e0612-812d-4d6c-c61e-422db4adae8b"
      },
      "execution_count": null,
      "outputs": [
        {
          "output_type": "execute_result",
          "data": {
            "text/plain": [
              "<tf.Tensor: shape=(224, 224, 3), dtype=float32, numpy=\n",
              "array([[[0.18192208, 0.09493959, 0.6317812 ],\n",
              "        [0.8141421 , 0.28745008, 0.7737336 ],\n",
              "        [0.04462767, 0.71553636, 0.80468047],\n",
              "        ...,\n",
              "        [0.68386567, 0.27786005, 0.74453914],\n",
              "        [0.8226893 , 0.71559596, 0.14721501],\n",
              "        [0.8584467 , 0.03009713, 0.0536474 ]],\n",
              "\n",
              "       [[0.61138856, 0.38803148, 0.08269775],\n",
              "        [0.8882102 , 0.40674305, 0.5170288 ],\n",
              "        [0.60512745, 0.55607986, 0.40903664],\n",
              "        ...,\n",
              "        [0.8795278 , 0.6838596 , 0.13690436],\n",
              "        [0.8656707 , 0.5734513 , 0.24968112],\n",
              "        [0.5121559 , 0.8395573 , 0.91569114]],\n",
              "\n",
              "       [[0.32561028, 0.7831812 , 0.37629557],\n",
              "        [0.7459601 , 0.15828037, 0.7154614 ],\n",
              "        [0.9088414 , 0.3433262 , 0.67376494],\n",
              "        ...,\n",
              "        [0.5460036 , 0.70619977, 0.42546737],\n",
              "        [0.9387984 , 0.6081183 , 0.90944743],\n",
              "        [0.04331839, 0.3652314 , 0.27456224]],\n",
              "\n",
              "       ...,\n",
              "\n",
              "       [[0.22791576, 0.6625606 , 0.05335128],\n",
              "        [0.27320266, 0.05404747, 0.6075325 ],\n",
              "        [0.68026066, 0.9601518 , 0.8112457 ],\n",
              "        ...,\n",
              "        [0.09764242, 0.72617936, 0.6534332 ],\n",
              "        [0.8425112 , 0.90906453, 0.9803462 ],\n",
              "        [0.5639776 , 0.39513266, 0.87297475]],\n",
              "\n",
              "       [[0.00296235, 0.50721157, 0.74106073],\n",
              "        [0.8642026 , 0.64951384, 0.7353723 ],\n",
              "        [0.616155  , 0.35981512, 0.21268725],\n",
              "        ...,\n",
              "        [0.98254097, 0.8152658 , 0.99008906],\n",
              "        [0.17306781, 0.6965965 , 0.34966886],\n",
              "        [0.94966745, 0.47937787, 0.47978806]],\n",
              "\n",
              "       [[0.64620936, 0.5758345 , 0.17928624],\n",
              "        [0.306566  , 0.9431398 , 0.18885624],\n",
              "        [0.96875477, 0.7849848 , 0.91031027],\n",
              "        ...,\n",
              "        [0.23221195, 0.47483003, 0.05533373],\n",
              "        [0.40977824, 0.33010876, 0.60628235],\n",
              "        [0.9356817 , 0.8690897 , 0.51847816]]], dtype=float32)>"
            ]
          },
          "metadata": {},
          "execution_count": 12
        }
      ]
    },
    {
      "cell_type": "markdown",
      "source": [
        "Find the min and max values of the tensor you created in 6."
      ],
      "metadata": {
        "id": "zX5yom73tgDf"
      }
    },
    {
      "cell_type": "code",
      "source": [
        "print(\"{} - min value {} - max value\".format(tf.reduce_min(random_3).numpy(),tf.reduce_max(random_3).numpy()))"
      ],
      "metadata": {
        "id": "EpFJx_vktgW_",
        "colab": {
          "base_uri": "https://localhost:8080/"
        },
        "outputId": "2d30a6c9-461e-46ed-d6ac-4bac7eaa6b86"
      },
      "execution_count": null,
      "outputs": [
        {
          "output_type": "stream",
          "name": "stdout",
          "text": [
            "8.344650268554688e-07 - min value 0.9999996423721313 - max value\n"
          ]
        }
      ]
    },
    {
      "cell_type": "markdown",
      "source": [
        "Created a tensor with random values of shape [1, 224, 224, 3] then squeeze it to change the shape to [224, 224, 3]."
      ],
      "metadata": {
        "id": "sf90uFVttgtV"
      }
    },
    {
      "cell_type": "code",
      "source": [
        "random_4 = tf.random.uniform([1,224,224,3])\n",
        "random_4.shape"
      ],
      "metadata": {
        "id": "0RM6YxtkthHs",
        "colab": {
          "base_uri": "https://localhost:8080/"
        },
        "outputId": "d9fce389-afba-46b7-ca3d-feb55644a383"
      },
      "execution_count": null,
      "outputs": [
        {
          "output_type": "execute_result",
          "data": {
            "text/plain": [
              "TensorShape([1, 224, 224, 3])"
            ]
          },
          "metadata": {},
          "execution_count": 16
        }
      ]
    },
    {
      "cell_type": "code",
      "source": [
        "random_4_squeezed = tf.squeeze(random_4)\n",
        "random_4_squeezed.shape"
      ],
      "metadata": {
        "colab": {
          "base_uri": "https://localhost:8080/"
        },
        "id": "Sw-WKMuqzacz",
        "outputId": "f126e01d-e244-460a-e538-f05bcb6449f7"
      },
      "execution_count": null,
      "outputs": [
        {
          "output_type": "execute_result",
          "data": {
            "text/plain": [
              "TensorShape([224, 224, 3])"
            ]
          },
          "metadata": {},
          "execution_count": 17
        }
      ]
    },
    {
      "cell_type": "markdown",
      "source": [
        "Create a tensor with shape [10] using your own choice of values, then find the index which has the maximum value."
      ],
      "metadata": {
        "id": "a8G-Hr7ethh3"
      }
    },
    {
      "cell_type": "code",
      "source": [
        "random_5 = tf.random.uniform([10],0,10)\n",
        "random_5"
      ],
      "metadata": {
        "id": "N3Pp41H7th5f",
        "colab": {
          "base_uri": "https://localhost:8080/"
        },
        "outputId": "7ed416c3-4928-4486-b424-b9935fbcc9bd"
      },
      "execution_count": null,
      "outputs": [
        {
          "output_type": "execute_result",
          "data": {
            "text/plain": [
              "<tf.Tensor: shape=(10,), dtype=float32, numpy=\n",
              "array([9.648534 , 1.7411888, 2.8085542, 1.4319694, 2.9220033, 2.2992861,\n",
              "       8.547932 , 0.6670332, 9.244417 , 0.8933878], dtype=float32)>"
            ]
          },
          "metadata": {},
          "execution_count": 18
        }
      ]
    },
    {
      "cell_type": "code",
      "source": [
        "print(\"index {} has the maximum value\".format(tf.argmax(random_5).numpy()))"
      ],
      "metadata": {
        "colab": {
          "base_uri": "https://localhost:8080/"
        },
        "id": "vrdmZ6UGzf4T",
        "outputId": "5e4d3682-e886-46f5-8e24-ba3f4e118f36"
      },
      "execution_count": null,
      "outputs": [
        {
          "output_type": "stream",
          "name": "stdout",
          "text": [
            "index 0 has the maximum value\n"
          ]
        }
      ]
    },
    {
      "cell_type": "markdown",
      "source": [
        "One-hot encode the tensor you created in 9."
      ],
      "metadata": {
        "id": "ILzsOQcftiQf"
      }
    },
    {
      "cell_type": "code",
      "source": [
        "tf.cast(random_5.numpy().tolist(),tf.int32)"
      ],
      "metadata": {
        "id": "gmjViqLjtigo",
        "colab": {
          "base_uri": "https://localhost:8080/"
        },
        "outputId": "189e48ec-feb5-4f38-e42e-b3677420ddd3"
      },
      "execution_count": null,
      "outputs": [
        {
          "output_type": "execute_result",
          "data": {
            "text/plain": [
              "<tf.Tensor: shape=(10,), dtype=int32, numpy=array([9, 1, 2, 1, 2, 2, 8, 0, 9, 0], dtype=int32)>"
            ]
          },
          "metadata": {},
          "execution_count": 20
        }
      ]
    },
    {
      "cell_type": "code",
      "source": [
        "tf.one_hot(tf.cast(random_5.numpy().tolist(),tf.int32),depth=tf.size(random_5).numpy(),on_value=\"|\",off_value=\"-\")"
      ],
      "metadata": {
        "colab": {
          "base_uri": "https://localhost:8080/"
        },
        "id": "lEwSF8LJzk_J",
        "outputId": "35a35ac5-ace5-4c30-f1c3-90c9829bdb0c"
      },
      "execution_count": null,
      "outputs": [
        {
          "output_type": "execute_result",
          "data": {
            "text/plain": [
              "<tf.Tensor: shape=(10, 10), dtype=string, numpy=\n",
              "array([[b'-', b'-', b'-', b'-', b'-', b'-', b'-', b'-', b'-', b'|'],\n",
              "       [b'-', b'|', b'-', b'-', b'-', b'-', b'-', b'-', b'-', b'-'],\n",
              "       [b'-', b'-', b'|', b'-', b'-', b'-', b'-', b'-', b'-', b'-'],\n",
              "       [b'-', b'|', b'-', b'-', b'-', b'-', b'-', b'-', b'-', b'-'],\n",
              "       [b'-', b'-', b'|', b'-', b'-', b'-', b'-', b'-', b'-', b'-'],\n",
              "       [b'-', b'-', b'|', b'-', b'-', b'-', b'-', b'-', b'-', b'-'],\n",
              "       [b'-', b'-', b'-', b'-', b'-', b'-', b'-', b'-', b'|', b'-'],\n",
              "       [b'|', b'-', b'-', b'-', b'-', b'-', b'-', b'-', b'-', b'-'],\n",
              "       [b'-', b'-', b'-', b'-', b'-', b'-', b'-', b'-', b'-', b'|'],\n",
              "       [b'|', b'-', b'-', b'-', b'-', b'-', b'-', b'-', b'-', b'-']],\n",
              "      dtype=object)>"
            ]
          },
          "metadata": {},
          "execution_count": 21
        }
      ]
    }
  ]
}